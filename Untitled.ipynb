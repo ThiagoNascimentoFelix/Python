{
 "cells": [
  {
   "cell_type": "code",
   "execution_count": 12,
   "id": "bfe9921b-4624-495a-997e-2c4662d76390",
   "metadata": {
    "tags": []
   },
   "outputs": [
    {
     "name": "stdout",
     "output_type": "stream",
     "text": [
      "Thiago Felix (@thiagonfelix) • Instagram photos and videos\n"
     ]
    }
   ],
   "source": [
    "import requests\n",
    "from bs4 import BeautifulSoup\n",
    "\n",
    "\n",
    "# URL do perfil do Instagram\n",
    "url = 'https://www.instagram.com/thiagonfelix/'\n",
    "\n",
    "# Faz uma requisição GET para a página do Instagram\n",
    "response = requests.get(url)\n",
    "\n",
    "# Analisa o conteúdo HTML da página usando o BeautifulSoup\n",
    "soup = BeautifulSoup(response.content, 'html.parser')\n",
    "\n",
    "# Extrai o título da página\n",
    "title = soup.title.string\n",
    "\n",
    "# Imprime o título\n",
    "print(title)\n"
   ]
  },
  {
   "cell_type": "code",
   "execution_count": null,
   "id": "f240a3dc-c4a3-4395-83d7-70587774ed7b",
   "metadata": {},
   "outputs": [],
   "source": []
  }
 ],
 "metadata": {
  "kernelspec": {
   "display_name": "Python 3 (ipykernel)",
   "language": "python",
   "name": "python3"
  },
  "language_info": {
   "codemirror_mode": {
    "name": "ipython",
    "version": 3
   },
   "file_extension": ".py",
   "mimetype": "text/x-python",
   "name": "python",
   "nbconvert_exporter": "python",
   "pygments_lexer": "ipython3",
   "version": "3.10.11"
  }
 },
 "nbformat": 4,
 "nbformat_minor": 5
}
